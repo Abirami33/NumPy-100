{
 "cells": [
  {
   "cell_type": "code",
   "execution_count": 7,
   "metadata": {},
   "outputs": [
    {
     "name": "stdout",
     "output_type": "stream",
     "text": [
      "[[[ 49 100 191]\n",
      "  [ 11  33  80]\n",
      "  [ 16  46 106]]\n",
      "\n",
      " [[ 60 152 147]\n",
      "  [  8  15   8]\n",
      "  [  9   4   1]]\n",
      "\n",
      " [[ 41  70  39]\n",
      "  [ 90  63  52]\n",
      "  [ 69 156  88]]]\n"
     ]
    }
   ],
   "source": [
    "import numpy as np\n",
    "from io import BytesIO\n",
    "from PIL import Image   #importing python image library\n",
    "import PIL, requests\n",
    "\n",
    "# Import image from URL\n",
    "URL = 'https://images3.alphacoders.com/823/82317.jpg'\n",
    "response = requests.get(URL)  #retrieving image from requests\n",
    "\n",
    "# Read it as Image\n",
    "I = Image.open(BytesIO(response.content))  #opening the image\n",
    "\n",
    "I=I.resize([3,3])\n",
    "\n",
    "# Convert to numpy array\n",
    "arr = np.asarray(I)  \n",
    "print(arr)\n",
    "\n",
    "# Optionaly Convert it back to an image and show\n",
    "#im = PIL.Image.fromarray(np.uint8(arr))\n",
    "#Image.Image.show(im)"
   ]
  }
 ],
 "metadata": {
  "kernelspec": {
   "display_name": "Python 3",
   "language": "python",
   "name": "python3"
  },
  "language_info": {
   "codemirror_mode": {
    "name": "ipython",
    "version": 3
   },
   "file_extension": ".py",
   "mimetype": "text/x-python",
   "name": "python",
   "nbconvert_exporter": "python",
   "pygments_lexer": "ipython3",
   "version": "3.6.5"
  }
 },
 "nbformat": 4,
 "nbformat_minor": 2
}
